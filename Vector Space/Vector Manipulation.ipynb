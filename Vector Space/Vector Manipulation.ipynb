{
 "cells": [
  {
   "cell_type": "code",
   "execution_count": 1,
   "id": "647c9b95",
   "metadata": {},
   "outputs": [],
   "source": [
    "import numpy as np\n",
    "import matplotlib.pyplot as plt\n",
    "import seaborn as sb\n",
    "import pandas as pd"
   ]
  },
  {
   "cell_type": "markdown",
   "id": "14a22dae",
   "metadata": {},
   "source": [
    "# Norm of Array & Matrix"
   ]
  },
  {
   "cell_type": "markdown",
   "id": "dc578518",
   "metadata": {},
   "source": [
    "In linear algebra, the norm of an n-dimensional vector $\\vec a$   is defined as:\n",
    "\n",
    "$$ norm(\\vec a) = ||\\vec a|| = \\sqrt {\\sum_{i=1}^{n} a_i ^ 2}$$\n",
    "\n",
    "Calculating the norm of vector or even of a matrix is a general operation when dealing with data. Numpy has a set of functions for linear algebra in the subpackage **linalg**, including the **norm** function. Let us see how to get the norm a given array or matrix:"
   ]
  },
  {
   "cell_type": "code",
   "execution_count": 6,
   "id": "36758af9",
   "metadata": {},
   "outputs": [
    {
     "name": "stdout",
     "output_type": "stream",
     "text": [
      "Norm1: 5.477225575051661 \n",
      "\n",
      "Norm2: 5.477225575051661\n"
     ]
    }
   ],
   "source": [
    "arr1 = np.array([1, 2, 3, 4])\n",
    "\n",
    "norm1 = np.sqrt(np.sum(np.power(arr1, 2)))\n",
    "norm2 = np.linalg.norm(arr1)\n",
    "\n",
    "print('Norm1:', norm1, '\\n')\n",
    "print('Norm2:', norm2)"
   ]
  },
  {
   "cell_type": "code",
   "execution_count": 7,
   "id": "775d2089",
   "metadata": {},
   "outputs": [
    {
     "data": {
      "text/plain": [
       "True"
      ]
     },
     "execution_count": 7,
     "metadata": {},
     "output_type": "execute_result"
    }
   ],
   "source": [
    "np.allclose(norm1, norm2)"
   ]
  },
  {
   "cell_type": "markdown",
   "id": "1db26434",
   "metadata": {},
   "source": [
    "Note that without any other parameter, the norm function treats the matrix as being just an array of numbers.\n",
    "However, it is possible to get the norm by rows or by columns. The **axis** parameter controls the form of the operation: \n",
    "* **axis=0** means get the norm of each column\n",
    "* **axis=1** means get the norm of each row. "
   ]
  },
  {
   "cell_type": "code",
   "execution_count": 9,
   "id": "1a9b875f",
   "metadata": {},
   "outputs": [
    {
     "name": "stdout",
     "output_type": "stream",
     "text": [
      "[[1 2]\n",
      " [3 4]\n",
      " [5 6]] \n",
      "\n",
      "Rows norm [2.23606798 5.         7.81024968] \n",
      "\n",
      "Cols norm [5.91607978 7.48331477]\n"
     ]
    }
   ],
   "source": [
    "matrix = np.array([[1, 2], [3, 4], [5, 6]])\n",
    "\n",
    "norm_rows = np.linalg.norm(matrix, axis=1)\n",
    "norm_cols = np.linalg.norm(matrix, axis=0)\n",
    "\n",
    "print(matrix, '\\n')\n",
    "print('Rows norm', norm_rows, '\\n')\n",
    "print('Cols norm', norm_cols)"
   ]
  },
  {
   "cell_type": "markdown",
   "id": "71801320",
   "metadata": {},
   "source": [
    "# Dot product between Array & Matrix"
   ]
  },
  {
   "cell_type": "code",
   "execution_count": 10,
   "id": "935dcb54",
   "metadata": {},
   "outputs": [
    {
     "data": {
      "text/plain": [
       "70"
      ]
     },
     "execution_count": 10,
     "metadata": {},
     "output_type": "execute_result"
    }
   ],
   "source": [
    "arr2 = np.array([5, 6, 7, 8])\n",
    "\n",
    "dot = np.dot(arr1, arr2)\n",
    "dot"
   ]
  },
  {
   "cell_type": "code",
   "execution_count": 13,
   "id": "acf0e5ab",
   "metadata": {},
   "outputs": [
    {
     "name": "stdout",
     "output_type": "stream",
     "text": [
      "5.477225575051661\n",
      "5.477225575051661\n"
     ]
    },
    {
     "data": {
      "text/plain": [
       "True"
      ]
     },
     "execution_count": 13,
     "metadata": {},
     "output_type": "execute_result"
    }
   ],
   "source": [
    "dot_1 = np.sqrt(np.dot(arr1, arr1))\n",
    "norm_1 = np.linalg.norm(arr1)\n",
    "\n",
    "print(dot_1)\n",
    "print(norm_1)\n",
    "np.allclose(dot_1, norm_1)"
   ]
  },
  {
   "cell_type": "markdown",
   "id": "fd675b94",
   "metadata": {},
   "source": [
    "Note that the norm is the square root of the dot product of the vector with itself. That gives many options to write that function:\n",
    "\n",
    "$$ norm(\\vec a) = ||\\vec a|| = \\sqrt {\\sum_{i=1}^{n} a_i ^ 2} = \\sqrt {a \\cdot a}$$\n",
    "\n"
   ]
  },
  {
   "cell_type": "markdown",
   "id": "357335a2",
   "metadata": {},
   "source": [
    "# Manipulation on axes"
   ]
  },
  {
   "cell_type": "code",
   "execution_count": 16,
   "id": "5c5c08b7",
   "metadata": {},
   "outputs": [
    {
     "data": {
      "text/plain": [
       "array([[1, 1],\n",
       "       [2, 2],\n",
       "       [3, 3]])"
      ]
     },
     "execution_count": 16,
     "metadata": {},
     "output_type": "execute_result"
    }
   ],
   "source": [
    "matrix = np.array([[1, 1], [2, 2], [3, 3]])\n",
    "matrix"
   ]
  },
  {
   "cell_type": "code",
   "execution_count": 17,
   "id": "47a2eb96",
   "metadata": {},
   "outputs": [
    {
     "name": "stdout",
     "output_type": "stream",
     "text": [
      "Sum by rows: [2 4 6] \n",
      "\n",
      "Sum by cols: [6 6]\n"
     ]
    }
   ],
   "source": [
    "# Get the sum\n",
    "\n",
    "row_sum = np.sum(matrix, axis=1)\n",
    "col_sum = np.sum(matrix, axis=0)\n",
    "\n",
    "print('Sum by rows:', row_sum, '\\n')\n",
    "print('Sum by cols:', col_sum)"
   ]
  },
  {
   "cell_type": "code",
   "execution_count": 18,
   "id": "3cac1f83",
   "metadata": {},
   "outputs": [
    {
     "name": "stdout",
     "output_type": "stream",
     "text": [
      "Mean by row: [1. 2. 3.] \n",
      "\n",
      "Mean by col: [2. 2.]\n"
     ]
    }
   ],
   "source": [
    "# Get the mean\n",
    "\n",
    "row_mean = np.mean(matrix, axis=1)\n",
    "col_mean = np.mean(matrix, axis=0)\n",
    "\n",
    "print('Mean by row:', row_mean, '\\n')\n",
    "print('Mean by col:', col_mean)"
   ]
  },
  {
   "cell_type": "code",
   "execution_count": 23,
   "id": "d131bf9c",
   "metadata": {},
   "outputs": [
    {
     "name": "stdout",
     "output_type": "stream",
     "text": [
      "[[0. 0. 0.]\n",
      " [0. 0. 0.]] \n",
      "\n",
      "[[-1. -1.]\n",
      " [ 0.  0.]\n",
      " [ 1.  1.]]\n"
     ]
    }
   ],
   "source": [
    "# Get the center\n",
    "\n",
    "row_center = matrix.T - np.mean(matrix, axis=1)\n",
    "col_center = matrix - np.mean(matrix, axis=0)\n",
    "\n",
    "print(row_center, '\\n')\n",
    "print(col_center)"
   ]
  },
  {
   "cell_type": "markdown",
   "id": "51bf7d44",
   "metadata": {},
   "source": [
    "# Transforming vectors"
   ]
  },
  {
   "cell_type": "markdown",
   "id": "3395d7a4",
   "metadata": {},
   "source": [
    "**The dot product between a square matrix and the transpose of a row vector produces a rotation and scaling of the original vector.**"
   ]
  },
  {
   "cell_type": "code",
   "execution_count": 24,
   "id": "641eb774",
   "metadata": {},
   "outputs": [
    {
     "data": {
      "text/plain": [
       "(2, 2)"
      ]
     },
     "execution_count": 24,
     "metadata": {},
     "output_type": "execute_result"
    }
   ],
   "source": [
    "R = np.array([[-2, 0],\n",
    "              [0, 2]])\n",
    "R.shape"
   ]
  },
  {
   "cell_type": "code",
   "execution_count": 25,
   "id": "096b9cee",
   "metadata": {},
   "outputs": [
    {
     "data": {
      "text/plain": [
       "(1, 2)"
      ]
     },
     "execution_count": 25,
     "metadata": {},
     "output_type": "execute_result"
    }
   ],
   "source": [
    "x = np.array([[1, 1]])\n",
    "x.shape"
   ]
  },
  {
   "cell_type": "code",
   "execution_count": 26,
   "id": "4df6bdaf",
   "metadata": {},
   "outputs": [
    {
     "data": {
      "text/plain": [
       "array([[-2],\n",
       "       [ 2]])"
      ]
     },
     "execution_count": 26,
     "metadata": {},
     "output_type": "execute_result"
    }
   ],
   "source": [
    "y = np.dot(R, x.T)\n",
    "y"
   ]
  },
  {
   "cell_type": "markdown",
   "id": "cb67746b",
   "metadata": {},
   "source": [
    "# Frobenius Norm"
   ]
  },
  {
   "cell_type": "markdown",
   "id": "40a89e05",
   "metadata": {},
   "source": [
    "The Frobenius norm is the generalization to $R^2$ of the already known norm function for vectors \n",
    "\n",
    "$$\\| \\vec a \\| = \\sqrt {{\\vec a} \\cdot {\\vec a}} $$\n",
    "\n",
    "For a given $R^2$ matrix A, the frobenius norm is defined as:\n",
    "\n",
    "$$\\|\\mathrm{A}\\|_{F} \\equiv \\sqrt{\\sum_{i=1}^{m} \\sum_{j=1}^{n}\\left|a_{i j}\\right|^{2}}$$\n",
    "\n"
   ]
  },
  {
   "cell_type": "code",
   "execution_count": 27,
   "id": "db584fe8",
   "metadata": {},
   "outputs": [
    {
     "data": {
      "text/plain": [
       "array([[2, 2],\n",
       "       [2, 2]])"
      ]
     },
     "execution_count": 27,
     "metadata": {},
     "output_type": "execute_result"
    }
   ],
   "source": [
    "A = np.array([[2, 2],\n",
    "              [2, 2]])\n",
    "A"
   ]
  },
  {
   "cell_type": "code",
   "execution_count": 28,
   "id": "96339e37",
   "metadata": {},
   "outputs": [
    {
     "data": {
      "text/plain": [
       "array([[4, 4],\n",
       "       [4, 4]])"
      ]
     },
     "execution_count": 28,
     "metadata": {},
     "output_type": "execute_result"
    }
   ],
   "source": [
    "A_squared = np.square(A)\n",
    "A_squared"
   ]
  },
  {
   "cell_type": "code",
   "execution_count": 29,
   "id": "f1d45d72",
   "metadata": {},
   "outputs": [
    {
     "data": {
      "text/plain": [
       "4.0"
      ]
     },
     "execution_count": 29,
     "metadata": {},
     "output_type": "execute_result"
    }
   ],
   "source": [
    "A_frobenius = np.sqrt(np.sum(A_squared))\n",
    "A_frobenius"
   ]
  },
  {
   "cell_type": "code",
   "execution_count": 30,
   "id": "3432f069",
   "metadata": {},
   "outputs": [
    {
     "data": {
      "text/plain": [
       "4.0"
      ]
     },
     "execution_count": 30,
     "metadata": {},
     "output_type": "execute_result"
    }
   ],
   "source": [
    "np.linalg.norm(A)"
   ]
  },
  {
   "cell_type": "markdown",
   "id": "b87a406f",
   "metadata": {},
   "source": [
    "# Manipulating word embeddings"
   ]
  },
  {
   "cell_type": "code",
   "execution_count": 34,
   "id": "a858c23b",
   "metadata": {},
   "outputs": [
    {
     "data": {
      "text/plain": [
       "243"
      ]
     },
     "execution_count": 34,
     "metadata": {},
     "output_type": "execute_result"
    }
   ],
   "source": [
    "import pickle\n",
    "\n",
    "word_embeddings = pickle.load(open('./word_embeddings_subset.p', 'rb'))\n",
    "len(word_embeddings)"
   ]
  },
  {
   "cell_type": "code",
   "execution_count": 35,
   "id": "0e859790",
   "metadata": {},
   "outputs": [
    {
     "name": "stdout",
     "output_type": "stream",
     "text": [
      "<class 'numpy.ndarray'>\n"
     ]
    }
   ],
   "source": [
    "country_vector = word_embeddings['country']\n",
    "print(type(country_vector))"
   ]
  },
  {
   "cell_type": "code",
   "execution_count": 36,
   "id": "dec21b11",
   "metadata": {
    "scrolled": true
   },
   "outputs": [
    {
     "data": {
      "text/plain": [
       "array([-0.08007812,  0.13378906,  0.14355469,  0.09472656, -0.04736328,\n",
       "       -0.02355957, -0.00854492, -0.18652344,  0.04589844, -0.08154297,\n",
       "       -0.03442383, -0.11621094,  0.21777344, -0.10351562, -0.06689453,\n",
       "        0.15332031, -0.19335938,  0.26367188, -0.13671875, -0.05566406,\n",
       "        0.07470703, -0.00070953,  0.09375   , -0.14453125,  0.04296875,\n",
       "       -0.01916504, -0.22558594, -0.12695312, -0.0168457 ,  0.05224609,\n",
       "        0.0625    , -0.1484375 , -0.01965332,  0.17578125,  0.10644531,\n",
       "       -0.04760742, -0.10253906, -0.28515625,  0.10351562,  0.20800781,\n",
       "       -0.07617188, -0.04345703,  0.08642578,  0.08740234,  0.11767578,\n",
       "        0.20996094, -0.07275391,  0.1640625 , -0.01135254,  0.0025177 ,\n",
       "        0.05810547, -0.03222656,  0.06884766,  0.046875  ,  0.10107422,\n",
       "        0.02148438, -0.16210938,  0.07128906, -0.16210938,  0.05981445,\n",
       "        0.05102539, -0.05566406,  0.06787109, -0.03759766,  0.04345703,\n",
       "       -0.03173828, -0.03417969, -0.01116943,  0.06201172, -0.08007812,\n",
       "       -0.14941406,  0.11914062,  0.02575684,  0.00302124,  0.04711914,\n",
       "       -0.17773438,  0.04101562,  0.05541992,  0.00598145,  0.03027344,\n",
       "       -0.07666016, -0.109375  ,  0.02832031, -0.10498047,  0.0100708 ,\n",
       "       -0.03149414, -0.22363281, -0.03125   , -0.01147461,  0.17285156,\n",
       "        0.08056641, -0.10888672, -0.09570312, -0.21777344, -0.07910156,\n",
       "       -0.10009766,  0.06396484, -0.11962891,  0.18652344, -0.02062988,\n",
       "       -0.02172852,  0.29296875, -0.00793457,  0.0324707 , -0.15136719,\n",
       "        0.00227356, -0.03540039, -0.13378906,  0.0546875 , -0.03271484,\n",
       "       -0.01855469, -0.10302734, -0.13378906,  0.11425781,  0.16699219,\n",
       "        0.01361084, -0.02722168, -0.2109375 ,  0.07177734,  0.08691406,\n",
       "       -0.09960938,  0.01422119, -0.18261719,  0.00741577,  0.01965332,\n",
       "        0.00738525, -0.03271484, -0.15234375, -0.26367188, -0.14746094,\n",
       "        0.03320312, -0.03344727, -0.01000977,  0.01855469,  0.00183868,\n",
       "       -0.10498047,  0.09667969,  0.07910156,  0.11181641,  0.13085938,\n",
       "       -0.08740234, -0.1328125 ,  0.05004883,  0.19824219,  0.0612793 ,\n",
       "        0.16210938,  0.06933594,  0.01281738,  0.01550293,  0.01531982,\n",
       "        0.11474609,  0.02758789,  0.13769531, -0.08349609,  0.01123047,\n",
       "       -0.20507812, -0.12988281, -0.16699219,  0.20410156, -0.03588867,\n",
       "       -0.10888672,  0.0534668 ,  0.15820312, -0.20410156,  0.14648438,\n",
       "       -0.11572266,  0.01855469, -0.13574219,  0.24121094,  0.12304688,\n",
       "       -0.14550781,  0.17578125,  0.11816406, -0.30859375,  0.10888672,\n",
       "       -0.22363281,  0.19335938, -0.15722656, -0.07666016, -0.09082031,\n",
       "       -0.19628906, -0.23144531, -0.09130859, -0.14160156,  0.06347656,\n",
       "        0.03344727, -0.03369141,  0.06591797,  0.06201172,  0.3046875 ,\n",
       "        0.16796875, -0.11035156, -0.03833008, -0.02563477, -0.09765625,\n",
       "        0.04467773, -0.0534668 ,  0.11621094, -0.15039062, -0.16308594,\n",
       "       -0.15527344,  0.04638672,  0.11572266, -0.06640625, -0.04516602,\n",
       "        0.02331543, -0.08105469, -0.0255127 , -0.07714844,  0.0016861 ,\n",
       "        0.15820312,  0.00994873, -0.06445312,  0.15722656, -0.03112793,\n",
       "        0.10644531, -0.140625  ,  0.23535156, -0.11279297,  0.16015625,\n",
       "        0.00061798, -0.1484375 ,  0.02307129, -0.109375  ,  0.05444336,\n",
       "       -0.14160156,  0.11621094,  0.03710938,  0.14746094, -0.04199219,\n",
       "       -0.01391602, -0.03881836,  0.02783203,  0.10205078,  0.07470703,\n",
       "        0.20898438, -0.04223633, -0.04150391, -0.00588989, -0.14941406,\n",
       "       -0.04296875, -0.10107422, -0.06176758,  0.09472656,  0.22265625,\n",
       "       -0.02307129,  0.04858398, -0.15527344, -0.02282715, -0.04174805,\n",
       "        0.16699219, -0.09423828,  0.14453125,  0.11132812,  0.04223633,\n",
       "       -0.16699219,  0.10253906,  0.16796875,  0.12597656, -0.11865234,\n",
       "       -0.0213623 , -0.08056641,  0.24316406,  0.15527344,  0.16503906,\n",
       "        0.00854492, -0.12255859,  0.08691406, -0.11914062, -0.02941895,\n",
       "        0.08349609, -0.03100586,  0.13964844, -0.05151367,  0.00765991,\n",
       "       -0.04443359, -0.04980469, -0.03222656, -0.00952148, -0.10888672,\n",
       "       -0.10302734, -0.15722656,  0.19335938,  0.04858398,  0.015625  ,\n",
       "       -0.08105469, -0.11621094, -0.01989746,  0.05737305,  0.06103516,\n",
       "       -0.14550781,  0.06738281, -0.24414062, -0.07714844,  0.04760742,\n",
       "       -0.07519531, -0.14941406, -0.04418945,  0.09716797,  0.06738281],\n",
       "      dtype=float32)"
      ]
     },
     "execution_count": 36,
     "metadata": {},
     "output_type": "execute_result"
    }
   ],
   "source": [
    "country_vector"
   ]
  },
  {
   "cell_type": "code",
   "execution_count": 37,
   "id": "68531163",
   "metadata": {},
   "outputs": [
    {
     "data": {
      "text/plain": [
       "300"
      ]
     },
     "execution_count": 37,
     "metadata": {},
     "output_type": "execute_result"
    }
   ],
   "source": [
    "len(country_vector)"
   ]
  },
  {
   "cell_type": "code",
   "execution_count": 93,
   "id": "2461ca00",
   "metadata": {},
   "outputs": [],
   "source": [
    "def vec(w):\n",
    "    return word_embeddings.get(w, 0)"
   ]
  },
  {
   "cell_type": "code",
   "execution_count": 94,
   "id": "79592b95",
   "metadata": {
    "scrolled": false
   },
   "outputs": [
    {
     "data": {
      "image/png": "[encoded data removed]",
      "text/plain": [
       "<Figure size 1000x1000 with 1 Axes>"
      ]
     },
     "metadata": {},
     "output_type": "display_data"
    }
   ],
   "source": [
    "words = ['oil', 'gas', 'happy', 'sad', 'city', 'town', 'village', 'country', 'continent', 'petroleum', 'joyful']\n",
    "\n",
    "bag2d = np.array([vec(word) for word in words])\n",
    "\n",
    "fig, ax = plt.subplots(figsize=(10, 10))\n",
    "\n",
    "col1 = 3\n",
    "col2 = 2\n",
    "\n",
    "for word in bag2d:\n",
    "    ax.arrow(0, 0, word[col1], word[col2], head_width=0.005, head_length=0.005, fc='r', ec='r', width=1e-5)\n",
    "ax.scatter(bag2d[:, col1], bag2d[:, col2]);\n",
    "\n",
    "for i in range(len(words)):\n",
    "    ax.annotate(words[i], (bag2d[i, col1], bag2d[i, col2]))"
   ]
  },
  {
   "cell_type": "markdown",
   "id": "bca38b09",
   "metadata": {},
   "source": [
    "## Word distance"
   ]
  },
  {
   "cell_type": "code",
   "execution_count": 78,
   "id": "8e9ccef7",
   "metadata": {},
   "outputs": [
    {
     "data": {
      "image/png": "[encoded data removed]",
      "text/plain": [
       "<Figure size 800x800 with 1 Axes>"
      ]
     },
     "metadata": {},
     "output_type": "display_data"
    }
   ],
   "source": [
    "words = ['sad', 'happy', 'town', 'village']\n",
    "\n",
    "bag2d = np.array([vec(word) for word in words])\n",
    "\n",
    "fig, ax = plt.subplots(figsize=(8, 8))\n",
    "\n",
    "col1 = 3\n",
    "col2 = 2\n",
    "\n",
    "for word in bag2d:\n",
    "    ax.arrow(0, 0, word[col1], word[col2], head_width=0.0005, head_length=0.0005, fc='r', ec='r', width=1e-5)\n",
    "    \n",
    "village = vec('village')\n",
    "town = vec('town')\n",
    "diff = town - village\n",
    "ax.arrow(village[col1], village[col2], diff[col1], diff[col2], fc='b', ec='b', width=1e-5)\n",
    "\n",
    "sad = vec('sad')\n",
    "happy = vec('happy')\n",
    "diff = happy - sad\n",
    "ax.arrow(sad[col1], sad[col2], diff[col1], diff[col2], fc='g', ec='g', width=1e-5)\n",
    "\n",
    "for i in range(len(words)):\n",
    "    ax.annotate(words[i], (bag2d[i, col1], bag2d[i, col2]));"
   ]
  },
  {
   "cell_type": "markdown",
   "id": "f433e01c",
   "metadata": {},
   "source": [
    "## Predict capitals"
   ]
  },
  {
   "cell_type": "code",
   "execution_count": 80,
   "id": "b6189ebc",
   "metadata": {},
   "outputs": [],
   "source": [
    "capital = vec('France') - vec('Paris')\n",
    "country = vec('Madrid') + capital\n",
    "\n",
    "diff = country - vec('Spain')"
   ]
  },
  {
   "cell_type": "code",
   "execution_count": 82,
   "id": "0970d3f8",
   "metadata": {},
   "outputs": [
    {
     "data": {
      "text/html": [
       "<div>\n",
       "<style scoped>\n",
       "    .dataframe tbody tr th:only-of-type {\n",
       "        vertical-align: middle;\n",
       "    }\n",
       "\n",
       "    .dataframe tbody tr th {\n",
       "        vertical-align: top;\n",
       "    }\n",
       "\n",
       "    .dataframe thead th {\n",
       "        text-align: right;\n",
       "    }\n",
       "</style>\n",
       "<table border=\"1\" class=\"dataframe\">\n",
       "  <thead>\n",
       "    <tr style=\"text-align: right;\">\n",
       "      <th></th>\n",
       "      <th>0</th>\n",
       "      <th>1</th>\n",
       "      <th>2</th>\n",
       "      <th>3</th>\n",
       "      <th>4</th>\n",
       "      <th>5</th>\n",
       "      <th>6</th>\n",
       "      <th>7</th>\n",
       "      <th>8</th>\n",
       "      <th>9</th>\n",
       "      <th>...</th>\n",
       "      <th>290</th>\n",
       "      <th>291</th>\n",
       "      <th>292</th>\n",
       "      <th>293</th>\n",
       "      <th>294</th>\n",
       "      <th>295</th>\n",
       "      <th>296</th>\n",
       "      <th>297</th>\n",
       "      <th>298</th>\n",
       "      <th>299</th>\n",
       "    </tr>\n",
       "  </thead>\n",
       "  <tbody>\n",
       "    <tr>\n",
       "      <th>country</th>\n",
       "      <td>-0.080078</td>\n",
       "      <td>0.133789</td>\n",
       "      <td>0.143555</td>\n",
       "      <td>0.094727</td>\n",
       "      <td>-0.047363</td>\n",
       "      <td>-0.023560</td>\n",
       "      <td>-0.008545</td>\n",
       "      <td>-0.186523</td>\n",
       "      <td>0.045898</td>\n",
       "      <td>-0.081543</td>\n",
       "      <td>...</td>\n",
       "      <td>-0.145508</td>\n",
       "      <td>0.067383</td>\n",
       "      <td>-0.244141</td>\n",
       "      <td>-0.077148</td>\n",
       "      <td>0.047607</td>\n",
       "      <td>-0.075195</td>\n",
       "      <td>-0.149414</td>\n",
       "      <td>-0.044189</td>\n",
       "      <td>0.097168</td>\n",
       "      <td>0.067383</td>\n",
       "    </tr>\n",
       "    <tr>\n",
       "      <th>city</th>\n",
       "      <td>-0.010071</td>\n",
       "      <td>0.057373</td>\n",
       "      <td>0.183594</td>\n",
       "      <td>-0.040039</td>\n",
       "      <td>-0.029785</td>\n",
       "      <td>-0.079102</td>\n",
       "      <td>0.071777</td>\n",
       "      <td>0.013306</td>\n",
       "      <td>-0.143555</td>\n",
       "      <td>0.011292</td>\n",
       "      <td>...</td>\n",
       "      <td>0.024292</td>\n",
       "      <td>-0.168945</td>\n",
       "      <td>-0.062988</td>\n",
       "      <td>0.117188</td>\n",
       "      <td>-0.020508</td>\n",
       "      <td>0.030273</td>\n",
       "      <td>-0.247070</td>\n",
       "      <td>-0.122559</td>\n",
       "      <td>0.076172</td>\n",
       "      <td>-0.234375</td>\n",
       "    </tr>\n",
       "    <tr>\n",
       "      <th>China</th>\n",
       "      <td>-0.073242</td>\n",
       "      <td>0.135742</td>\n",
       "      <td>0.108887</td>\n",
       "      <td>0.083008</td>\n",
       "      <td>-0.127930</td>\n",
       "      <td>-0.227539</td>\n",
       "      <td>0.151367</td>\n",
       "      <td>-0.045654</td>\n",
       "      <td>-0.065430</td>\n",
       "      <td>0.034424</td>\n",
       "      <td>...</td>\n",
       "      <td>0.140625</td>\n",
       "      <td>0.087402</td>\n",
       "      <td>0.152344</td>\n",
       "      <td>0.079590</td>\n",
       "      <td>0.006348</td>\n",
       "      <td>-0.037842</td>\n",
       "      <td>-0.183594</td>\n",
       "      <td>0.137695</td>\n",
       "      <td>0.093750</td>\n",
       "      <td>-0.079590</td>\n",
       "    </tr>\n",
       "    <tr>\n",
       "      <th>Iraq</th>\n",
       "      <td>0.191406</td>\n",
       "      <td>0.125000</td>\n",
       "      <td>-0.065430</td>\n",
       "      <td>0.060059</td>\n",
       "      <td>-0.285156</td>\n",
       "      <td>-0.102539</td>\n",
       "      <td>0.117188</td>\n",
       "      <td>-0.351562</td>\n",
       "      <td>-0.095215</td>\n",
       "      <td>0.200195</td>\n",
       "      <td>...</td>\n",
       "      <td>-0.100586</td>\n",
       "      <td>-0.077148</td>\n",
       "      <td>-0.123047</td>\n",
       "      <td>0.193359</td>\n",
       "      <td>-0.153320</td>\n",
       "      <td>0.089355</td>\n",
       "      <td>-0.173828</td>\n",
       "      <td>-0.054688</td>\n",
       "      <td>0.302734</td>\n",
       "      <td>0.105957</td>\n",
       "    </tr>\n",
       "    <tr>\n",
       "      <th>oil</th>\n",
       "      <td>-0.139648</td>\n",
       "      <td>0.062256</td>\n",
       "      <td>-0.279297</td>\n",
       "      <td>0.063965</td>\n",
       "      <td>0.044434</td>\n",
       "      <td>-0.154297</td>\n",
       "      <td>-0.184570</td>\n",
       "      <td>-0.498047</td>\n",
       "      <td>0.047363</td>\n",
       "      <td>0.110840</td>\n",
       "      <td>...</td>\n",
       "      <td>-0.195312</td>\n",
       "      <td>-0.345703</td>\n",
       "      <td>0.217773</td>\n",
       "      <td>-0.091797</td>\n",
       "      <td>0.051025</td>\n",
       "      <td>0.061279</td>\n",
       "      <td>0.194336</td>\n",
       "      <td>0.204102</td>\n",
       "      <td>0.235352</td>\n",
       "      <td>-0.051025</td>\n",
       "    </tr>\n",
       "    <tr>\n",
       "      <th>town</th>\n",
       "      <td>0.123535</td>\n",
       "      <td>0.159180</td>\n",
       "      <td>0.030029</td>\n",
       "      <td>-0.161133</td>\n",
       "      <td>0.015625</td>\n",
       "      <td>0.111816</td>\n",
       "      <td>0.039795</td>\n",
       "      <td>-0.196289</td>\n",
       "      <td>-0.039307</td>\n",
       "      <td>0.067871</td>\n",
       "      <td>...</td>\n",
       "      <td>-0.007935</td>\n",
       "      <td>-0.091797</td>\n",
       "      <td>-0.265625</td>\n",
       "      <td>0.029297</td>\n",
       "      <td>0.089844</td>\n",
       "      <td>-0.049805</td>\n",
       "      <td>-0.202148</td>\n",
       "      <td>-0.079590</td>\n",
       "      <td>0.068848</td>\n",
       "      <td>-0.164062</td>\n",
       "    </tr>\n",
       "    <tr>\n",
       "      <th>Canada</th>\n",
       "      <td>-0.136719</td>\n",
       "      <td>-0.154297</td>\n",
       "      <td>0.269531</td>\n",
       "      <td>0.273438</td>\n",
       "      <td>0.086914</td>\n",
       "      <td>-0.076172</td>\n",
       "      <td>-0.018677</td>\n",
       "      <td>0.006256</td>\n",
       "      <td>0.077637</td>\n",
       "      <td>-0.211914</td>\n",
       "      <td>...</td>\n",
       "      <td>0.105469</td>\n",
       "      <td>0.030762</td>\n",
       "      <td>-0.039307</td>\n",
       "      <td>0.183594</td>\n",
       "      <td>-0.117676</td>\n",
       "      <td>0.191406</td>\n",
       "      <td>0.074219</td>\n",
       "      <td>0.020996</td>\n",
       "      <td>0.285156</td>\n",
       "      <td>-0.257812</td>\n",
       "    </tr>\n",
       "    <tr>\n",
       "      <th>London</th>\n",
       "      <td>-0.267578</td>\n",
       "      <td>0.092773</td>\n",
       "      <td>-0.238281</td>\n",
       "      <td>0.115234</td>\n",
       "      <td>-0.006836</td>\n",
       "      <td>0.221680</td>\n",
       "      <td>-0.251953</td>\n",
       "      <td>-0.055420</td>\n",
       "      <td>0.020020</td>\n",
       "      <td>0.149414</td>\n",
       "      <td>...</td>\n",
       "      <td>-0.008667</td>\n",
       "      <td>-0.008484</td>\n",
       "      <td>-0.053223</td>\n",
       "      <td>0.197266</td>\n",
       "      <td>-0.296875</td>\n",
       "      <td>0.064453</td>\n",
       "      <td>0.091797</td>\n",
       "      <td>0.058350</td>\n",
       "      <td>0.022583</td>\n",
       "      <td>-0.101074</td>\n",
       "    </tr>\n",
       "    <tr>\n",
       "      <th>England</th>\n",
       "      <td>-0.198242</td>\n",
       "      <td>0.115234</td>\n",
       "      <td>0.062500</td>\n",
       "      <td>-0.058350</td>\n",
       "      <td>0.226562</td>\n",
       "      <td>0.045898</td>\n",
       "      <td>-0.062256</td>\n",
       "      <td>-0.202148</td>\n",
       "      <td>0.080566</td>\n",
       "      <td>0.021606</td>\n",
       "      <td>...</td>\n",
       "      <td>0.135742</td>\n",
       "      <td>0.109375</td>\n",
       "      <td>-0.121582</td>\n",
       "      <td>0.008545</td>\n",
       "      <td>-0.171875</td>\n",
       "      <td>0.086914</td>\n",
       "      <td>0.070312</td>\n",
       "      <td>0.003281</td>\n",
       "      <td>0.069336</td>\n",
       "      <td>0.056152</td>\n",
       "    </tr>\n",
       "    <tr>\n",
       "      <th>Australia</th>\n",
       "      <td>0.048828</td>\n",
       "      <td>-0.194336</td>\n",
       "      <td>-0.041504</td>\n",
       "      <td>0.084473</td>\n",
       "      <td>-0.114258</td>\n",
       "      <td>-0.208008</td>\n",
       "      <td>-0.164062</td>\n",
       "      <td>-0.269531</td>\n",
       "      <td>0.079102</td>\n",
       "      <td>0.275391</td>\n",
       "      <td>...</td>\n",
       "      <td>0.021118</td>\n",
       "      <td>0.171875</td>\n",
       "      <td>0.042236</td>\n",
       "      <td>0.221680</td>\n",
       "      <td>-0.239258</td>\n",
       "      <td>-0.106934</td>\n",
       "      <td>0.030884</td>\n",
       "      <td>0.006622</td>\n",
       "      <td>0.051270</td>\n",
       "      <td>-0.135742</td>\n",
       "    </tr>\n",
       "  </tbody>\n",
       "</table>\n",
       "<p>10 rows × 300 columns</p>\n",
       "</div>"
      ],
      "text/plain": [
       "                0         1         2         3         4         5    \\\n",
       "country   -0.080078  0.133789  0.143555  0.094727 -0.047363 -0.023560   \n",
       "city      -0.010071  0.057373  0.183594 -0.040039 -0.029785 -0.079102   \n",
       "China     -0.073242  0.135742  0.108887  0.083008 -0.127930 -0.227539   \n",
       "Iraq       0.191406  0.125000 -0.065430  0.060059 -0.285156 -0.102539   \n",
       "oil       -0.139648  0.062256 -0.279297  0.063965  0.044434 -0.154297   \n",
       "town       0.123535  0.159180  0.030029 -0.161133  0.015625  0.111816   \n",
       "Canada    -0.136719 -0.154297  0.269531  0.273438  0.086914 -0.076172   \n",
       "London    -0.267578  0.092773 -0.238281  0.115234 -0.006836  0.221680   \n",
       "England   -0.198242  0.115234  0.062500 -0.058350  0.226562  0.045898   \n",
       "Australia  0.048828 -0.194336 -0.041504  0.084473 -0.114258 -0.208008   \n",
       "\n",
       "                6         7         8         9    ...       290       291  \\\n",
       "country   -0.008545 -0.186523  0.045898 -0.081543  ... -0.145508  0.067383   \n",
       "city       0.071777  0.013306 -0.143555  0.011292  ...  0.024292 -0.168945   \n",
       "China      0.151367 -0.045654 -0.065430  0.034424  ...  0.140625  0.087402   \n",
       "Iraq       0.117188 -0.351562 -0.095215  0.200195  ... -0.100586 -0.077148   \n",
       "oil       -0.184570 -0.498047  0.047363  0.110840  ... -0.195312 -0.345703   \n",
       "town       0.039795 -0.196289 -0.039307  0.067871  ... -0.007935 -0.091797   \n",
       "Canada    -0.018677  0.006256  0.077637 -0.211914  ...  0.105469  0.030762   \n",
       "London    -0.251953 -0.055420  0.020020  0.149414  ... -0.008667 -0.008484   \n",
       "England   -0.062256 -0.202148  0.080566  0.021606  ...  0.135742  0.109375   \n",
       "Australia -0.164062 -0.269531  0.079102  0.275391  ...  0.021118  0.171875   \n",
       "\n",
       "                292       293       294       295       296       297  \\\n",
       "country   -0.244141 -0.077148  0.047607 -0.075195 -0.149414 -0.044189   \n",
       "city      -0.062988  0.117188 -0.020508  0.030273 -0.247070 -0.122559   \n",
       "China      0.152344  0.079590  0.006348 -0.037842 -0.183594  0.137695   \n",
       "Iraq      -0.123047  0.193359 -0.153320  0.089355 -0.173828 -0.054688   \n",
       "oil        0.217773 -0.091797  0.051025  0.061279  0.194336  0.204102   \n",
       "town      -0.265625  0.029297  0.089844 -0.049805 -0.202148 -0.079590   \n",
       "Canada    -0.039307  0.183594 -0.117676  0.191406  0.074219  0.020996   \n",
       "London    -0.053223  0.197266 -0.296875  0.064453  0.091797  0.058350   \n",
       "England   -0.121582  0.008545 -0.171875  0.086914  0.070312  0.003281   \n",
       "Australia  0.042236  0.221680 -0.239258 -0.106934  0.030884  0.006622   \n",
       "\n",
       "                298       299  \n",
       "country    0.097168  0.067383  \n",
       "city       0.076172 -0.234375  \n",
       "China      0.093750 -0.079590  \n",
       "Iraq       0.302734  0.105957  \n",
       "oil        0.235352 -0.051025  \n",
       "town       0.068848 -0.164062  \n",
       "Canada     0.285156 -0.257812  \n",
       "London     0.022583 -0.101074  \n",
       "England    0.069336  0.056152  \n",
       "Australia  0.051270 -0.135742  \n",
       "\n",
       "[10 rows x 300 columns]"
      ]
     },
     "execution_count": 82,
     "metadata": {},
     "output_type": "execute_result"
    }
   ],
   "source": [
    "keys = word_embeddings.keys()\n",
    "data = []\n",
    "\n",
    "for key in keys:\n",
    "    data.append(word_embeddings[key])\n",
    "    \n",
    "embedding = pd.DataFrame(data, index=keys)\n",
    "embedding.head(10)"
   ]
  },
  {
   "cell_type": "code",
   "execution_count": 83,
   "id": "b37eac17",
   "metadata": {},
   "outputs": [],
   "source": [
    "def find_closet_word(v, k = 1):\n",
    "    diff = embedding.values - v # Calculate the vector difference from each word to the input vector\n",
    "    # Get the squared L2 norm of each difference vector.\n",
    "    # It means the squared euclidean distance from each word to the input vector\n",
    "    delta = np.sum(diff * diff, axis=1) # Find the index of the minimun distance in the array\n",
    "    i = np.argmin(delta)\n",
    "    return embedding.iloc[i].name"
   ]
  },
  {
   "cell_type": "code",
   "execution_count": 84,
   "id": "fa690f43",
   "metadata": {},
   "outputs": [
    {
     "data": {
      "text/plain": [
       "'Spain'"
      ]
     },
     "execution_count": 84,
     "metadata": {},
     "output_type": "execute_result"
    }
   ],
   "source": [
    "find_closet_word(vec('Italy') - vec('Rome') + vec('Madrid'))"
   ]
  },
  {
   "cell_type": "code",
   "execution_count": 90,
   "id": "8b39d3e7",
   "metadata": {},
   "outputs": [
    {
     "name": "stdout",
     "output_type": "stream",
     "text": [
      "Germany\n",
      "Canada\n"
     ]
    }
   ],
   "source": [
    "print(find_closet_word(vec('Berlin') + capital))\n",
    "print(find_closet_word(vec('Canada') + capital))"
   ]
  },
  {
   "cell_type": "markdown",
   "id": "634275f9",
   "metadata": {},
   "source": [
    "## Represent a sentence as a vector\n",
    "\n",
    "A whole sentence can be represented as a vector by summing all the word vectors that conform to the sentence."
   ]
  },
  {
   "cell_type": "code",
   "execution_count": 92,
   "id": "7378f74f",
   "metadata": {
    "scrolled": true
   },
   "outputs": [
    {
     "data": {
      "text/plain": [
       "array([ 0.28485107,  0.30395508,  0.4574585 ,  0.30831528, -0.13715363,\n",
       "       -0.27685547, -0.30297852, -0.56604004, -0.34326172,  0.87677   ,\n",
       "       -0.5727539 ,  0.03393555,  0.0925293 , -0.25100708, -0.45288086,\n",
       "        0.08056641, -0.01464844,  0.5591736 ,  0.06640625,  0.20501709,\n",
       "        0.09960938,  0.14990234,  0.00341797,  0.4489746 ,  0.47436523,\n",
       "       -0.51123047, -0.67944336,  0.55688477,  0.02502441, -0.04138184,\n",
       "        0.73291016, -0.3869629 , -0.4609375 ,  0.645874  , -0.7635498 ,\n",
       "       -0.4038086 ,  0.07116699,  0.11157227,  0.5776367 ,  0.2763672 ,\n",
       "       -0.2692871 ,  0.08520508,  0.46044922,  0.5515137 ,  0.08203125,\n",
       "        0.4428711 , -0.1484375 , -0.31793213, -0.2956543 ,  1.1642456 ,\n",
       "       -0.03302002,  0.40100098, -0.07250977, -0.696167  , -1.0507812 ,\n",
       "        0.14637756, -0.95996094,  0.27941895, -0.7194824 ,  0.08081055,\n",
       "        0.24304199,  0.39819336, -0.4529419 , -0.12817383,  0.00488281,\n",
       "       -0.39746094, -0.19006348,  0.30566406, -0.44213867,  0.43230057,\n",
       "       -0.65966797,  0.30499268,  0.09143066,  0.477417  , -0.11657715,\n",
       "        0.20062256,  0.38134766,  0.24969482, -0.18408203, -0.1953125 ,\n",
       "       -0.00170898, -0.46118164,  0.00305176, -0.32287598, -0.14007568,\n",
       "        0.07617188, -0.32678223, -0.16522217,  0.37121582,  0.62353516,\n",
       "        0.22125244, -0.50146484, -1.1738281 , -0.43237305, -1.2231445 ,\n",
       "        0.31066895, -0.09020996, -0.43063354, -0.2697754 , -0.3109131 ,\n",
       "       -0.66467285,  0.45996094,  0.4880371 ,  0.67871094, -0.09741211,\n",
       "        0.00872803, -0.6152344 , -0.7076416 , -0.57958984, -1.0932617 ,\n",
       "        0.11486816,  0.43847656,  1.255373  , -0.34887695,  0.5406189 ,\n",
       "       -1.0315437 , -0.16343689, -0.69140625,  0.2421875 ,  0.5661011 ,\n",
       "       -0.28777313, -0.31481934, -0.59033203, -0.5751953 ,  0.5461426 ,\n",
       "       -0.4243164 , -0.09667969, -0.6347656 , -0.46801758, -0.90075684,\n",
       "       -0.14208984, -0.546875  ,  0.10009766,  0.17675781, -0.01409912,\n",
       "       -0.49926758, -0.40478516, -0.171875  ,  0.24145508,  0.36132812,\n",
       "       -0.06420898, -0.5       ,  0.17456055, -0.37109375,  0.80908203,\n",
       "       -0.19274902, -0.2524414 ,  0.31640625, -0.8496094 , -0.13964844,\n",
       "        0.10003662,  0.38879395, -0.08959961, -0.0836792 ,  0.21899414,\n",
       "       -0.19140625,  0.10665894,  0.2689209 ,  0.9169922 ,  0.19702148,\n",
       "       -0.0513916 ,  0.3550415 ,  1.1035156 , -0.17388916,  0.4033203 ,\n",
       "       -0.05322266,  0.64501953, -0.4345703 ,  0.38137817,  0.65966797,\n",
       "       -0.89501953, -0.6464844 ,  0.77926636,  0.00830078, -0.15406036,\n",
       "       -0.4472046 ,  0.24206543, -0.5062256 , -0.4000244 ,  0.22241211,\n",
       "       -0.68847656,  0.05627441, -0.52197266, -0.9248047 ,  0.88308716,\n",
       "       -0.2944336 ,  0.6374512 ,  0.23828125,  0.59869385,  0.6485596 ,\n",
       "        0.3786621 ,  0.9748535 , -0.3623047 ,  0.7107544 , -0.4060669 ,\n",
       "        0.28112793,  0.2210083 , -0.30126953, -0.8803711 , -0.7307739 ,\n",
       "       -0.12182617,  0.0435791 ,  0.12109375, -0.67905426,  0.67871094,\n",
       "       -1.0952148 ,  0.36694336,  0.03588867,  0.34716797, -0.13946533,\n",
       "       -0.33544922,  0.1895752 , -0.29745483,  0.06542969, -1.0488281 ,\n",
       "        0.58026123, -0.25289154,  0.2553711 , -0.19390869,  0.14801025,\n",
       "        0.25479126, -0.34594727, -0.18286133, -0.64489746, -0.39744568,\n",
       "       -0.15710449,  0.03369141,  0.48490906,  0.06604004, -0.11291504,\n",
       "        0.07568359, -0.20663452, -0.871048  ,  0.32977295, -0.02441406,\n",
       "       -0.24584961,  0.18310547, -0.09356689,  0.14837646, -0.52001953,\n",
       "        0.7685547 , -0.71313477,  0.33507538,  0.10367966,  0.06941223,\n",
       "        0.23657227, -0.03417969, -0.27197266,  0.05566406,  0.09729004,\n",
       "       -0.31896973,  0.4671631 , -0.03759766,  0.8886719 ,  0.44140625,\n",
       "       -0.09228516,  0.1171875 , -0.08764648, -0.49121094, -0.2705078 ,\n",
       "        0.22998047,  0.35302734, -0.07373047,  0.24975586,  0.18379211,\n",
       "        0.5942383 ,  0.16064453, -0.32263184, -0.33447266,  0.5148926 ,\n",
       "       -0.17749023, -0.04760742,  0.33422852, -0.3059082 , -0.11585855,\n",
       "       -0.6967201 , -0.14318848,  0.29345703, -0.36114502,  0.0378418 ,\n",
       "       -0.54541016, -0.25671387,  0.67626953, -0.07861328, -0.05413818,\n",
       "        0.4517517 , -0.31347656,  0.01159668, -0.03210449,  0.23028564,\n",
       "       -0.32717896, -0.24072266, -0.6899414 ,  0.19824219, -0.29736328,\n",
       "        0.26464844, -1.0266113 , -0.19226074,  0.22949219, -0.06054688],\n",
       "      dtype=float32)"
      ]
     },
     "execution_count": 92,
     "metadata": {},
     "output_type": "execute_result"
    }
   ],
   "source": [
    "doc = \"Madrid Berlin town city king\"\n",
    "\n",
    "vec_doc = np.array([vec(w) for w in doc.split(\" \")])\n",
    "doc2vec = np.sum(vec_doc, axis=0)\n",
    "doc2vec"
   ]
  },
  {
   "cell_type": "code",
   "execution_count": 95,
   "id": "83b60f6d",
   "metadata": {},
   "outputs": [
    {
     "data": {
      "text/plain": [
       "(300,)"
      ]
     },
     "execution_count": 95,
     "metadata": {},
     "output_type": "execute_result"
    }
   ],
   "source": [
    "doc2vec.shape"
   ]
  },
  {
   "cell_type": "markdown",
   "id": "a0893151",
   "metadata": {},
   "source": [
    "# Euclidean distance"
   ]
  },
  {
   "cell_type": "code",
   "execution_count": 101,
   "id": "c1ca7346",
   "metadata": {},
   "outputs": [
    {
     "name": "stdout",
     "output_type": "stream",
     "text": [
      "Euclidean distance between a and b: 3.0\n"
     ]
    }
   ],
   "source": [
    "a = np.array([1, 6, 8])\n",
    "b = np.array([0, 4, 6])\n",
    "\n",
    "d = np.linalg.norm(a - b)\n",
    "\n",
    "print('Euclidean distance between a and b: {}'.format(d))"
   ]
  },
  {
   "cell_type": "markdown",
   "id": "5ab0d272",
   "metadata": {},
   "source": [
    "# Cosine similarity"
   ]
  },
  {
   "cell_type": "code",
   "execution_count": 105,
   "id": "d7145fb1",
   "metadata": {},
   "outputs": [],
   "source": [
    "def cosine_similarity(a, b):\n",
    "    dot = np.dot(a, b)\n",
    "    norm_a = np.linalg.norm(a)\n",
    "    norm_b = np.linalg.norm(b)\n",
    "    \n",
    "    cosine = dot / (norm_a * norm_b)\n",
    "    \n",
    "    return cosine"
   ]
  },
  {
   "cell_type": "code",
   "execution_count": 110,
   "id": "5964e0f9",
   "metadata": {},
   "outputs": [
    {
     "data": {
      "text/plain": [
       "-0.9594119455666703"
      ]
     },
     "execution_count": 110,
     "metadata": {},
     "output_type": "execute_result"
    }
   ],
   "source": [
    "c = np.array([-1, -2, -3])\n",
    "d = np.array([7, 8, 9])\n",
    "\n",
    "cosine_similarity(c, d)"
   ]
  },
  {
   "cell_type": "code",
   "execution_count": null,
   "id": "52fc4449",
   "metadata": {},
   "outputs": [],
   "source": []
  },
  {
   "cell_type": "code",
   "execution_count": null,
   "id": "bd874247",
   "metadata": {},
   "outputs": [],
   "source": []
  },
  {
   "cell_type": "code",
   "execution_count": null,
   "id": "41fc9f80",
   "metadata": {},
   "outputs": [],
   "source": []
  }
 ],
 "metadata": {
  "kernelspec": {
   "display_name": "Python 3 (ipykernel)",
   "language": "python",
   "name": "python3"
  },
  "language_info": {
   "codemirror_mode": {
    "name": "ipython",
    "version": 3
   },
   "file_extension": ".py",
   "mimetype": "text/x-python",
   "name": "python",
   "nbconvert_exporter": "python",
   "pygments_lexer": "ipython3",
   "version": "3.7.9"
  }
 },
 "nbformat": 4,
 "nbformat_minor": 5
}
